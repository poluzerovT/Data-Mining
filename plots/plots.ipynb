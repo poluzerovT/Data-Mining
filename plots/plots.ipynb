{
 "cells": [
  {
   "cell_type": "code",
   "execution_count": 1,
   "metadata": {},
   "outputs": [],
   "source": [
    "import numpy as np\n",
    "import pandas as pd\n",
    "import matplotlib.pyplot as plt"
   ]
  },
  {
   "cell_type": "markdown",
   "metadata": {},
   "source": [
    "# Lecture 6. Decision trees"
   ]
  },
  {
   "cell_type": "code",
   "execution_count": 2,
   "metadata": {},
   "outputs": [
    {
     "data": {
      "image/png": "[encoded data removed]",
      "text/plain": [
       "<Figure size 640x200 with 2 Axes>"
      ]
     },
     "metadata": {},
     "output_type": "display_data"
    }
   ],
   "source": [
    "x = [1, 2, 3, 4, 5]\n",
    "y1 = [0.2, 0.2, 0.2, 0.2, 0.2]\n",
    "y2 = [0.05, 0.03, 0.02, 0.8, 0.1]\n",
    "\n",
    "ent_1 = - (y1 * np.log(y1)).sum()\n",
    "ent_2 = - (y2 * np.log(y2)).sum()\n",
    "\n",
    "fig, ax = plt.subplots(ncols=2, figsize=(6.4, 2))\n",
    "ax[0].bar(x, y1)\n",
    "ax[0].set_ylim(0, 0.85)\n",
    "ax[0].text(0.5, 0.5, f'H={ent_1: .2f}', fontsize=18)\n",
    "ax[1].bar(x, y2)\n",
    "ax[1].set_ylim(0, 0.85)\n",
    "ax[1].text(0.5, 0.5, f'H={ent_2: .2f}', fontsize=18)\n",
    "\n",
    "plt.savefig('entropy_bars.png')"
   ]
  }
 ],
 "metadata": {
  "kernelspec": {
   "display_name": "base",
   "language": "python",
   "name": "python3"
  },
  "language_info": {
   "codemirror_mode": {
    "name": "ipython",
    "version": 3
   },
   "file_extension": ".py",
   "mimetype": "text/x-python",
   "name": "python",
   "nbconvert_exporter": "python",
   "pygments_lexer": "ipython3",
   "version": "3.10.12"
  }
 },
 "nbformat": 4,
 "nbformat_minor": 2
}
