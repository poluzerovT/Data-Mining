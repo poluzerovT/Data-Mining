{
 "cells": [
  {
   "cell_type": "markdown",
   "metadata": {},
   "source": [
    "# ОИАД. Лабораторная работа 2\n",
    "\n",
    "* Подгонка распределения под выборочные данные\n",
    "* Критерий согласия: Хи-вадрат тест\n",
    "* Распределение статистик\n",
    "* Доверительные интервалы\n",
    "\n",
    "\n",
    "## Просьба к формату сдачи\n",
    "* отправляйте на почту tpoluzerov@gmail.com\n",
    "* тему письма и имя файла заполняйте по шаблону: ГРУППА_ФАМИЛИЯ_НОМЕРЛАБЫ (пример: 10_Иванов_2)\n",
    "* дедлайн - ****\n",
    "* каждая неделя просрочки сдачи - снижение оценки на 2 балла\n",
    "* вопросы и предложения можно отправлять на почту\n",
    "\n",
    "Успехов!"
   ]
  },
  {
   "cell_type": "markdown",
   "metadata": {},
   "source": [
    "Укажите вариант - номер в списке группы"
   ]
  },
  {
   "cell_type": "code",
   "execution_count": 6,
   "metadata": {},
   "outputs": [],
   "source": [
    "VARIANT = ..."
   ]
  },
  {
   "cell_type": "code",
   "execution_count": 7,
   "metadata": {},
   "outputs": [],
   "source": [
    "import pandas as pd\n",
    "import numpy as np\n",
    "import matplotlib.pyplot as plt\n",
    "\n",
    "pd.set_option('display.max_columns', None)"
   ]
  },
  {
   "cell_type": "markdown",
   "metadata": {},
   "source": [
    "# 1. Подготовка данных\n",
    "\n",
    "[Датасет](https://www.kaggle.com/competitions/house-prices-advanced-regression-techniques/data)"
   ]
  },
  {
   "cell_type": "code",
   "execution_count": null,
   "metadata": {},
   "outputs": [],
   "source": [
    "df = pd.read_csv('data/train.csv')\n",
    "df.shape"
   ]
  },
  {
   "cell_type": "code",
   "execution_count": null,
   "metadata": {},
   "outputs": [],
   "source": [
    "cols = ['LotFrontage', 'LotArea', '1stFlrSF', 'GrLivArea', 'SalePrice']\n",
    "use_col = cols[VARIANT % len(cols)]\n",
    "use_col"
   ]
  },
  {
   "cell_type": "code",
   "execution_count": null,
   "metadata": {},
   "outputs": [],
   "source": [
    "df[use_col].describe()"
   ]
  },
  {
   "cell_type": "code",
   "execution_count": null,
   "metadata": {},
   "outputs": [],
   "source": [
    "plt.hist(df[use_col])\n",
    "plt.show()"
   ]
  },
  {
   "cell_type": "code",
   "execution_count": null,
   "metadata": {},
   "outputs": [],
   "source": [
    "# можете преобразовать данные по своему чтобы получилось \"красивое\" распределение \n",
    "# может помочь удаление экстремально больших значений\n",
    "\n",
    "x_raw = df[df[use_col] < df[use_col].quantile(0.95)][use_col]\n",
    "x_raw.describe()"
   ]
  },
  {
   "cell_type": "code",
   "execution_count": null,
   "metadata": {},
   "outputs": [],
   "source": [
    "x = x_raw.sample(300, replace=True, random_state=VARIANT).reset_index(drop=True)\n",
    "plt.hist(x)\n",
    "plt.show()"
   ]
  },
  {
   "cell_type": "markdown",
   "metadata": {},
   "source": [
    "# 2. Подгонка распределения \n",
    "\n",
    "* Выбрать **три** подходящих по форме распределения и с помощью каждого из них приблизить распределение выборочных данных.\n",
    "* Вывести оценки параметров распределений. Построить графики.\n",
    "* Для проверки согласованности данных с распределением и выбора лучшего приближения необходимо провести **Хи-квадрат тест**.\n",
    "Логику работы теста **реализовать самому**.\n",
    "\n",
    "* Сделать вывод о качестве аппроксимации\n",
    "\n",
    "Справочно:\n",
    "* В случае если инервал не содержит наблюдений или их очень мало - можно объеденить этот интервал с соседним.\n",
    "* Если носитель распределения есть счётное множество, то начиная с некоторого значения $k: P(X > x_k) < \\alpha$, где $\\alpha$ - вероятность \"невозможного\" события, всю оставшуюся вероятность $P(X > x_k)$ добавляют к вероятности события $p_k^* = P(X = X_k)$. То есть распределение усекают до $k$"
   ]
  },
  {
   "cell_type": "code",
   "execution_count": 15,
   "metadata": {},
   "outputs": [],
   "source": [
    "def chi2_test(freq_obs, freq_exp, ddof):\n",
    "    ...\n",
    "    return stat, pvalue"
   ]
  },
  {
   "cell_type": "code",
   "execution_count": null,
   "metadata": {},
   "outputs": [],
   "source": []
  },
  {
   "cell_type": "markdown",
   "metadata": {},
   "source": [
    "# 3. Проверить результаты используя готовое решение\n",
    "\n",
    "* Сравнить результаты вашей реализации с  [готовым решением](https://docs.scipy.org/doc/scipy/reference/generated/scipy.stats.chisquare.html#scipy.stats.chisquare)"
   ]
  },
  {
   "cell_type": "code",
   "execution_count": null,
   "metadata": {},
   "outputs": [],
   "source": []
  },
  {
   "cell_type": "markdown",
   "metadata": {},
   "source": [
    "# 4. Интервальная оценка параметров\n",
    "* С помощью полученного наилучшего приближающего распределения сгенерировать по $N=100$ выборок **для каждого** случая объема выборки:\n",
    "    * $n_1 = 10$\n",
    "    * $n_2 = 50$\n",
    "    * $n_3 = 100$\n",
    "    * $n_4 = 500$\n",
    "    \n",
    "* Для каждого случая:\n",
    "    * **визуализировать плотность** распределения выборочного **среднего** и выборочной **дисперсии**\n",
    "    * построить $\\alpha = 0.95$ **доверительный интервал** для соответствующих статистик\n",
    "\n",
    "* На примере оценки среднего, построить график **зависимости дисперсии оценки от объема выборки**\n",
    "\n",
    "* Сделать **текстовый вывод** о форме распределения параметров, влиянии объема выборки на ширину интервала.\n"
   ]
  },
  {
   "cell_type": "code",
   "execution_count": null,
   "metadata": {},
   "outputs": [],
   "source": []
  }
 ],
 "metadata": {
  "kernelspec": {
   "display_name": "base",
   "language": "python",
   "name": "python3"
  },
  "language_info": {
   "codemirror_mode": {
    "name": "ipython",
    "version": 3
   },
   "file_extension": ".py",
   "mimetype": "text/x-python",
   "name": "python",
   "nbconvert_exporter": "python",
   "pygments_lexer": "ipython3",
   "version": "3.10.12"
  }
 },
 "nbformat": 4,
 "nbformat_minor": 2
}
