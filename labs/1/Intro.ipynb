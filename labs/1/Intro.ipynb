{
 "cells": [
  {
   "cell_type": "markdown",
   "id": "6653b4ba-24b9-48df-a02d-592f6994c27c",
   "metadata": {},
   "source": [
    "# Лабораторная работа 1\n",
    "\n",
    "Общие принципы описательной статистики:\n",
    "* Расчет статистик на основании выборки\n",
    "* Построение эмпирических функциий распределения\n",
    "* Визуализация распределений\n",
    "\n"
   ]
  },
  {
   "cell_type": "markdown",
   "id": "5b14a8f5-e02c-496e-a173-0ea8d8245161",
   "metadata": {},
   "source": [
    "## 1. Подготовка данных\n",
    "\n",
    "[Датасет](https://www.kaggle.com/competitions/house-prices-advanced-regression-techniques/data)"
   ]
  },
  {
   "cell_type": "code",
   "execution_count": null,
   "id": "1250d48d-e4b6-4c43-bca1-3c951b2e5b01",
   "metadata": {},
   "outputs": [],
   "source": [
    "import pandas as pd\n",
    "import numpy as np\n",
    "import scipy.stats as sts\n",
    "import os\n",
    "\n",
    "import matplotlib.pyplot as plt\n",
    "import seaborn as sns\n",
    "\n",
    "pd.set_option('display.max_columns', None) # выводить все столбцы\n",
    "pd.set_option('display.max_rows', 100)"
   ]
  },
  {
   "cell_type": "code",
   "execution_count": null,
   "id": "ef73f951-8b30-4dbf-8242-06babcc1f7ad",
   "metadata": {},
   "outputs": [],
   "source": [
    "os.getcwd()"
   ]
  },
  {
   "cell_type": "code",
   "execution_count": null,
   "id": "cba10c02-5cd7-475d-a1a8-d8d214705ac3",
   "metadata": {},
   "outputs": [],
   "source": [
    "df = pd.read_csv('data/train.csv')\n",
    "df.shape"
   ]
  },
  {
   "cell_type": "code",
   "execution_count": null,
   "id": "b7381a28-478b-4809-bc7f-e58798431ea4",
   "metadata": {},
   "outputs": [],
   "source": [
    "df.head()"
   ]
  },
  {
   "cell_type": "markdown",
   "id": "f434788c-2213-443f-b7d5-bbfab6b8b528",
   "metadata": {
    "editable": true,
    "slideshow": {
     "slide_type": ""
    },
    "tags": []
   },
   "source": [
    "### Непрерывные данные"
   ]
  },
  {
   "cell_type": "code",
   "execution_count": null,
   "id": "0df825e8-3005-4343-a469-3b0738271a7e",
   "metadata": {
    "editable": true,
    "scrolled": true,
    "slideshow": {
     "slide_type": ""
    },
    "tags": []
   },
   "outputs": [],
   "source": [
    "c = df['SalePrice'] / 1_000\n",
    "c.describe()"
   ]
  },
  {
   "cell_type": "markdown",
   "id": "5feb5312-f783-48d1-8144-28cb0753b7a5",
   "metadata": {},
   "source": [
    "### Дискретные данные"
   ]
  },
  {
   "cell_type": "code",
   "execution_count": null,
   "id": "782fafae-56e7-40aa-826a-3e70e5f46ca1",
   "metadata": {},
   "outputs": [],
   "source": [
    "d = df['OverallQual']\n",
    "d.value_counts()"
   ]
  },
  {
   "cell_type": "markdown",
   "id": "d2f9044e-3695-48eb-bc9e-96cf18b64800",
   "metadata": {},
   "source": [
    "## 2. Общие статистики\n",
    "\n",
    "Необходимо реализовать статистики для одномерной выборки.\n",
    "Нельзя использовать уже готовые решения!\n",
    "\n",
    "Такого рода решения **не принимаются**:\n",
    "\n",
    "```python\n",
    "def min_(x):\n",
    "    return np.min(x)\n",
    "```\n",
    "\n",
    "**Применить** к непрерывным и дискретным данным. \n",
    "Дать краткое **текстовое описание** распределений на основании вычисленных статистик"
   ]
  },
  {
   "cell_type": "code",
   "execution_count": null,
   "id": "836cac06-6da1-4c39-890f-f6029e2220be",
   "metadata": {},
   "outputs": [],
   "source": [
    "def min_(x):\n",
    "    pass"
   ]
  },
  {
   "cell_type": "code",
   "execution_count": null,
   "id": "76c42f4e-b5da-4a6c-8222-4f58496755fd",
   "metadata": {},
   "outputs": [],
   "source": [
    "def max_(x):\n",
    "    pass"
   ]
  },
  {
   "cell_type": "code",
   "execution_count": null,
   "id": "810fa46f-762c-4bff-8a7c-ab9d272fb7e1",
   "metadata": {},
   "outputs": [],
   "source": [
    "def range_(x):\n",
    "    pass"
   ]
  },
  {
   "cell_type": "code",
   "execution_count": null,
   "id": "bc71a8d7-4cc6-49c5-af5f-b8e6eee2cd07",
   "metadata": {},
   "outputs": [],
   "source": [
    "def mean(x):\n",
    "    pass"
   ]
  },
  {
   "cell_type": "code",
   "execution_count": null,
   "id": "56373603-629e-4b88-8656-fa3a2feee552",
   "metadata": {},
   "outputs": [],
   "source": [
    "def var(x):\n",
    "    pass"
   ]
  },
  {
   "cell_type": "code",
   "execution_count": null,
   "id": "39d3c9ab-fe15-4aa0-8e80-a3286b32bd05",
   "metadata": {},
   "outputs": [],
   "source": [
    "def std(x):\n",
    "    pass"
   ]
  },
  {
   "cell_type": "code",
   "execution_count": null,
   "id": "1b98b32b-c271-45dd-b1cc-be0a4ff731e9",
   "metadata": {},
   "outputs": [],
   "source": [
    "def moda(x):\n",
    "    pass"
   ]
  },
  {
   "cell_type": "code",
   "execution_count": null,
   "id": "d56e720a-58ce-44df-8777-67f48efaaec0",
   "metadata": {},
   "outputs": [],
   "source": [
    "def median(x):\n",
    "    pass"
   ]
  },
  {
   "cell_type": "code",
   "execution_count": null,
   "id": "ba738fa7-a55c-4dab-8a72-fafd03531f2a",
   "metadata": {},
   "outputs": [],
   "source": [
    "def quantile(x, q):\n",
    "    pass"
   ]
  },
  {
   "cell_type": "code",
   "execution_count": null,
   "id": "044728b4-20ab-459e-bf06-e98b7b33c2ca",
   "metadata": {},
   "outputs": [],
   "source": [
    "def iqr(x):\n",
    "    pass"
   ]
  },
  {
   "cell_type": "code",
   "execution_count": null,
   "id": "da4fe70f-5552-4982-8ce9-c4136fb37094",
   "metadata": {},
   "outputs": [],
   "source": [
    "def skew(x):\n",
    "    pass"
   ]
  },
  {
   "cell_type": "code",
   "execution_count": null,
   "id": "311d163b-d2b3-4b97-a448-be97242b369b",
   "metadata": {},
   "outputs": [],
   "source": [
    "def kurtosis(x):\n",
    "    pass"
   ]
  },
  {
   "cell_type": "code",
   "execution_count": null,
   "id": "e5a58743-44ab-4fb2-b392-5f4b2ec99418",
   "metadata": {},
   "outputs": [],
   "source": [
    "def freq(x, left_edge, right_edge):\n",
    "    pass"
   ]
  },
  {
   "cell_type": "markdown",
   "id": "24b4e396-1b0d-4524-9056-949103db6621",
   "metadata": {},
   "source": [
    "### Вывод\n",
    "\n",
    "Для дискретного случая: \n",
    "\n",
    "Для непрерывного случая:\n"
   ]
  },
  {
   "cell_type": "markdown",
   "id": "a7fa0610-8487-4ec1-a9b1-4999a735a501",
   "metadata": {},
   "source": [
    "## 3. Эмпирические функции\n",
    "* Полигон частот\n",
    "* Гистограмма\n",
    "* Кумулятивная функция распределения\n",
    "* Ящик с усами\n",
    "\n",
    "**Реализовать функции** вовращающие только данные для построения соответсвующих графиков.\n",
    "\n",
    "Вывести **результаты применения** функций к непрерывным и дискретным данным.\n",
    "Сами **графики строить не нужно**"
   ]
  },
  {
   "cell_type": "code",
   "execution_count": null,
   "id": "84446ee8-fe59-4aeb-b2eb-8ad9e1e8d809",
   "metadata": {},
   "outputs": [],
   "source": [
    "def freq_polygon(x, bins=10):\n",
    "    pass"
   ]
  },
  {
   "cell_type": "code",
   "execution_count": null,
   "id": "b37707a2-4f8a-4ebd-9d10-55d7dd1d947d",
   "metadata": {},
   "outputs": [],
   "source": [
    "def hist(x, bins=10):\n",
    "    pass"
   ]
  },
  {
   "cell_type": "code",
   "execution_count": null,
   "id": "ff477dd3-5d1c-4eda-a58b-8ba5e52fd417",
   "metadata": {},
   "outputs": [],
   "source": [
    "def cdf(x):\n",
    "    pass"
   ]
  },
  {
   "cell_type": "code",
   "execution_count": null,
   "id": "aa0c5a57-b008-4a81-94a6-af5050e6175a",
   "metadata": {},
   "outputs": [],
   "source": [
    "def boxplot(x, whis=1.5):\n",
    "    pass"
   ]
  },
  {
   "cell_type": "markdown",
   "id": "1f931f4f-ff98-4332-b3bf-709cb6040e62",
   "metadata": {
    "editable": true,
    "slideshow": {
     "slide_type": ""
    },
    "tags": []
   },
   "source": [
    "## 4. Визуализация\n",
    "* Гистограмма\n",
    "* Эмпирическая функция распределения (cdf - cumulative density function)\n",
    "* Ящик с усами (boxplot)\n",
    "* Скрипка (violin plot)\n",
    "\n",
    "Показано ниже **на примере непрерывной** величины. \n",
    "\n",
    "**Построить для дискретной** аналогичные визуализации, а так же\n",
    "```python\n",
    "plt.barplot()\n",
    "```\n",
    "\n",
    "**Сделать выводы** относительно того, насколько хорошо тот или иной график показывает распределение"
   ]
  },
  {
   "cell_type": "markdown",
   "id": "4beb1f85-fc48-4c56-954e-6b0766f2a4ae",
   "metadata": {
    "editable": true,
    "slideshow": {
     "slide_type": ""
    },
    "tags": []
   },
   "source": [
    "### Непрерывное распределение"
   ]
  },
  {
   "cell_type": "code",
   "execution_count": null,
   "id": "23a7e032-f3b4-440b-98dc-2059c88f0da5",
   "metadata": {},
   "outputs": [],
   "source": [
    "plt.hist(c, bins=30, density=True)\n",
    "plt.title('Histogram')\n",
    "plt.show()"
   ]
  },
  {
   "cell_type": "code",
   "execution_count": null,
   "id": "4d12a070-497e-4c31-9fd7-e843d1d98ea1",
   "metadata": {},
   "outputs": [],
   "source": [
    "res = sts.ecdf(c)\n",
    "res.cdf.plot(linewidth=3)\n",
    "plt.title('Emperical CDF')\n",
    "plt.show()"
   ]
  },
  {
   "cell_type": "code",
   "execution_count": null,
   "id": "40bd8ad6-543e-4541-afb0-1130e040aabe",
   "metadata": {},
   "outputs": [],
   "source": [
    "plt.boxplot(c, vert=False, showfliers=True)\n",
    "plt.title('Boxplot')\n",
    "plt.show()"
   ]
  },
  {
   "cell_type": "code",
   "execution_count": null,
   "id": "45c3a271-797e-40e5-9560-094d4e122393",
   "metadata": {},
   "outputs": [],
   "source": [
    "sns.violinplot(c)\n",
    "plt.title('Violin plot')\n",
    "plt.show()"
   ]
  },
  {
   "cell_type": "markdown",
   "id": "bbb18119-d843-428e-95c2-c3aecc433e96",
   "metadata": {},
   "source": [
    "### Дискретное распределение"
   ]
  },
  {
   "cell_type": "code",
   "execution_count": null,
   "id": "ed697e1c-0a37-4ade-bfbe-1d0292b73cf5",
   "metadata": {},
   "outputs": [],
   "source": [
    "..."
   ]
  }
 ],
 "metadata": {
  "kernelspec": {
   "display_name": "Python 3 (ipykernel)",
   "language": "python",
   "name": "python3"
  },
  "language_info": {
   "codemirror_mode": {
    "name": "ipython",
    "version": 3
   },
   "file_extension": ".py",
   "mimetype": "text/x-python",
   "name": "python",
   "nbconvert_exporter": "python",
   "pygments_lexer": "ipython3",
   "version": "3.10.12"
  }
 },
 "nbformat": 4,
 "nbformat_minor": 5
}
